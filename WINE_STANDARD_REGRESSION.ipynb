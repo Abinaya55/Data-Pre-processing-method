{
 "cells": [
  {
   "cell_type": "code",
   "execution_count": 1,
   "metadata": {},
   "outputs": [
    {
     "name": "stdout",
     "output_type": "stream",
     "text": [
      "      fixed acidity  volatile acidity  citric acid  residual sugar  chlorides  \\\n",
      "0               7.0              0.27         0.36            20.7      0.045   \n",
      "1               6.3              0.30         0.34             1.6      0.049   \n",
      "2               8.1              0.28         0.40             6.9      0.050   \n",
      "3               7.2              0.23         0.32             8.5      0.058   \n",
      "4               7.2              0.23         0.32             8.5      0.058   \n",
      "...             ...               ...          ...             ...        ...   \n",
      "4893            6.2              0.21         0.29             1.6      0.039   \n",
      "4894            6.6              0.32         0.36             8.0      0.047   \n",
      "4895            6.5              0.24         0.19             1.2      0.041   \n",
      "4896            5.5              0.29         0.30             1.1      0.022   \n",
      "4897            6.0              0.21         0.38             0.8      0.020   \n",
      "\n",
      "      free sulfur dioxide  total sulfur dioxide  density    pH  sulphates  \\\n",
      "0                    45.0                 170.0  1.00100  3.00       0.45   \n",
      "1                    14.0                 132.0  0.99400  3.30       0.49   \n",
      "2                    30.0                  97.0  0.99510  3.26       0.44   \n",
      "3                    47.0                 186.0  0.99560  3.19       0.40   \n",
      "4                    47.0                 186.0  0.99560  3.19       0.40   \n",
      "...                   ...                   ...      ...   ...        ...   \n",
      "4893                 24.0                  92.0  0.99114  3.27       0.50   \n",
      "4894                 57.0                 168.0  0.99490  3.15       0.46   \n",
      "4895                 30.0                 111.0  0.99254  2.99       0.46   \n",
      "4896                 20.0                 110.0  0.98869  3.34       0.38   \n",
      "4897                 22.0                  98.0  0.98941  3.26       0.32   \n",
      "\n",
      "      alcohol  quality  \n",
      "0         8.8        6  \n",
      "1         9.5        6  \n",
      "2        10.1        6  \n",
      "3         9.9        6  \n",
      "4         9.9        6  \n",
      "...       ...      ...  \n",
      "4893     11.2        6  \n",
      "4894      9.6        5  \n",
      "4895      9.4        6  \n",
      "4896     12.8        7  \n",
      "4897     11.8        6  \n",
      "\n",
      "[4898 rows x 12 columns]\n",
      "       fixed acidity  volatile acidity  citric acid  residual sugar  \\\n",
      "count    4898.000000       4898.000000  4898.000000     4898.000000   \n",
      "mean        6.854788          0.278241     0.334192        6.391415   \n",
      "std         0.843868          0.100795     0.121020        5.072058   \n",
      "min         3.800000          0.080000     0.000000        0.600000   \n",
      "25%         6.300000          0.210000     0.270000        1.700000   \n",
      "50%         6.800000          0.260000     0.320000        5.200000   \n",
      "75%         7.300000          0.320000     0.390000        9.900000   \n",
      "max        14.200000          1.100000     1.660000       65.800000   \n",
      "\n",
      "         chlorides  free sulfur dioxide  total sulfur dioxide      density  \\\n",
      "count  4898.000000          4898.000000           4898.000000  4898.000000   \n",
      "mean      0.045772            35.308085            138.360657     0.994027   \n",
      "std       0.021848            17.007137             42.498065     0.002991   \n",
      "min       0.009000             2.000000              9.000000     0.987110   \n",
      "25%       0.036000            23.000000            108.000000     0.991723   \n",
      "50%       0.043000            34.000000            134.000000     0.993740   \n",
      "75%       0.050000            46.000000            167.000000     0.996100   \n",
      "max       0.346000           289.000000            440.000000     1.038980   \n",
      "\n",
      "                pH    sulphates      alcohol      quality  \n",
      "count  4898.000000  4898.000000  4898.000000  4898.000000  \n",
      "mean      3.188267     0.489847    10.514267     5.877909  \n",
      "std       0.151001     0.114126     1.230621     0.885639  \n",
      "min       2.720000     0.220000     8.000000     3.000000  \n",
      "25%       3.090000     0.410000     9.500000     5.000000  \n",
      "50%       3.180000     0.470000    10.400000     6.000000  \n",
      "75%       3.280000     0.550000    11.400000     6.000000  \n",
      "max       3.820000     1.080000    14.200000     9.000000  \n"
     ]
    }
   ],
   "source": [
    "import pandas as pd\n",
    "\n",
    "df = pd.read_csv(\"winequality.csv\")\n",
    "print(df)\n",
    "print(df.describe())"
   ]
  },
  {
   "cell_type": "code",
   "execution_count": 2,
   "metadata": {},
   "outputs": [],
   "source": [
    "X_train = df[['fixed acidity','volatile acidity','citric acid','residual sugar','chlorides','free sulfur dioxide','total sulfur dioxide','density','pH','sulphates','alcohol']][:].values.reshape(4898, 11)\n",
    "y_train = df[['quality']][:].values.reshape(4898, 1)"
   ]
  },
  {
   "cell_type": "code",
   "execution_count": 5,
   "metadata": {},
   "outputs": [],
   "source": [
    "from sklearn.preprocessing import StandardScaler \n",
    "scaler = StandardScaler()\n",
    "scaledX = pd.DataFrame(scaler.fit_transform(X_train))"
   ]
  },
  {
   "cell_type": "code",
   "execution_count": 6,
   "metadata": {},
   "outputs": [
    {
     "name": "stdout",
     "output_type": "stream",
     "text": [
      "             0         1         2         3         4         5         6  \\\n",
      "0     0.172097 -0.081770  0.213280  2.821349 -0.035355  0.569932  0.744565   \n",
      "1    -0.657501  0.215896  0.048001 -0.944765  0.147747 -1.253019 -0.149685   \n",
      "2     1.475751  0.017452  0.543838  0.100282  0.193523 -0.312141 -0.973336   \n",
      "3     0.409125 -0.478657 -0.117278  0.415768  0.559727  0.687541  1.121091   \n",
      "4     0.409125 -0.478657 -0.117278  0.415768  0.559727  0.687541  1.121091   \n",
      "...        ...       ...       ...       ...       ...       ...       ...   \n",
      "4893 -0.776015 -0.677101 -0.365197 -0.944765 -0.310008 -0.664970 -1.091000   \n",
      "4894 -0.301959  0.414339  0.213280  0.317179  0.056196  1.275590  0.697499   \n",
      "4895 -0.420473 -0.379435 -1.191592 -1.023637 -0.218457 -0.312141 -0.643875   \n",
      "4896 -1.605613  0.116674 -0.282557 -1.043355 -1.088192 -0.900190 -0.667408   \n",
      "4897 -1.013043 -0.677101  0.378559 -1.102508 -1.179743 -0.782580 -0.949803   \n",
      "\n",
      "             7         8         9        10  \n",
      "0     2.331512 -1.246921 -0.349184 -1.393152  \n",
      "1    -0.009154  0.740029  0.001342 -0.824276  \n",
      "2     0.358665  0.475102 -0.436816 -0.336667  \n",
      "3     0.525855  0.011480 -0.787342 -0.499203  \n",
      "4     0.525855  0.011480 -0.787342 -0.499203  \n",
      "...        ...       ...       ...       ...  \n",
      "4893 -0.965483  0.541334  0.088973  0.557282  \n",
      "4894  0.291789 -0.253446 -0.261553 -0.743008  \n",
      "4895 -0.497350 -1.313153 -0.261553 -0.905544  \n",
      "4896 -1.784717  1.004955 -0.962605  1.857572  \n",
      "4897 -1.543962  0.475102 -1.488394  1.044891  \n",
      "\n",
      "[4898 rows x 11 columns]\n"
     ]
    }
   ],
   "source": [
    "print(scaledX)"
   ]
  },
  {
   "cell_type": "code",
   "execution_count": 7,
   "metadata": {},
   "outputs": [
    {
     "data": {
      "text/plain": [
       "0     7.584333e-17\n",
       "1     5.196832e-16\n",
       "2     6.019639e-16\n",
       "3    -1.024542e-16\n",
       "4     6.482723e-17\n",
       "5    -4.671641e-17\n",
       "6     1.057636e-16\n",
       "7     3.212112e-14\n",
       "8    -1.203860e-15\n",
       "9    -7.572999e-16\n",
       "10    1.419308e-15\n",
       "dtype: float64"
      ]
     },
     "execution_count": 7,
     "metadata": {},
     "output_type": "execute_result"
    }
   ],
   "source": [
    "scaledX.mean(axis = 0)"
   ]
  },
  {
   "cell_type": "code",
   "execution_count": 8,
   "metadata": {},
   "outputs": [
    {
     "data": {
      "text/plain": [
       "0     1.000102\n",
       "1     1.000102\n",
       "2     1.000102\n",
       "3     1.000102\n",
       "4     1.000102\n",
       "5     1.000102\n",
       "6     1.000102\n",
       "7     1.000102\n",
       "8     1.000102\n",
       "9     1.000102\n",
       "10    1.000102\n",
       "dtype: float64"
      ]
     },
     "execution_count": 8,
     "metadata": {},
     "output_type": "execute_result"
    }
   ],
   "source": [
    "scaledX.std(axis = 0)"
   ]
  },
  {
   "cell_type": "code",
   "execution_count": 20,
   "metadata": {},
   "outputs": [
    {
     "name": "stdout",
     "output_type": "stream",
     "text": [
      "R2 Score 0.2697994956361749\n"
     ]
    }
   ],
   "source": [
    "#linear\n",
    "X = df[['fixed acidity','volatile acidity','citric acid','residual sugar','chlorides','free sulfur dioxide','total sulfur dioxide','density','pH','sulphates','alcohol']][:].values.reshape(4898, 11)\n",
    "y = df[['quality']][:].values.reshape(4898, 1)\n",
    "from sklearn import linear_model\n",
    "model = linear_model.LinearRegression()\n",
    "\n",
    "model.fit(X, y)\n",
    "from sklearn.model_selection import train_test_split\n",
    "from sklearn.metrics import r2_score\n",
    "scaledX, X_test, y_train, y_test = train_test_split(X, y, test_size=0.2, random_state=8)\n",
    "\n",
    "model = linear_model.LinearRegression()\n",
    "model.fit(scaledX, y_train)\n",
    "y_pred = model.predict(X_test)\n",
    "\n",
    "print(\"R2 Score\",r2_score(y_test, y_pred))"
   ]
  },
  {
   "cell_type": "code",
   "execution_count": 21,
   "metadata": {},
   "outputs": [
    {
     "name": "stdout",
     "output_type": "stream",
     "text": [
      "R2 Score 0.2875590286619658\n"
     ]
    }
   ],
   "source": [
    "#Ridge\n",
    "from sklearn.model_selection import train_test_split\n",
    "from sklearn.linear_model import Ridge\n",
    "from sklearn.metrics import r2_score\n",
    "scaledX, X_test, y_train, y_test = train_test_split(X, y, test_size=0.2, random_state=8)\n",
    "\n",
    "model =Ridge()\n",
    "model.fit(scaledX, y_train)\n",
    "y_pred = model.predict(X_test)\n",
    "\n",
    "print(\"R2 Score\",r2_score(y_test, y_pred))\n"
   ]
  },
  {
   "cell_type": "code",
   "execution_count": 22,
   "metadata": {},
   "outputs": [
    {
     "name": "stdout",
     "output_type": "stream",
     "text": [
      "R2 Score 0.035606344510107246\n"
     ]
    }
   ],
   "source": [
    "#lasso\n",
    "from sklearn.model_selection import train_test_split\n",
    "from sklearn.linear_model import Lasso\n",
    "from sklearn.metrics import r2_score\n",
    "scaledX, X_test, y_train, y_test = train_test_split(X, y, test_size=0.2, random_state=8)\n",
    "\n",
    "model =Lasso()\n",
    "model.fit(scaledX, y_train)\n",
    "y_pred = model.predict(X_test)\n",
    "\n",
    "print(\"R2 Score\",r2_score(y_test, y_pred))\n"
   ]
  },
  {
   "cell_type": "code",
   "execution_count": 24,
   "metadata": {},
   "outputs": [
    {
     "name": "stdout",
     "output_type": "stream",
     "text": [
      "R2 Score 0.0434901390172836\n"
     ]
    }
   ],
   "source": [
    "#ElasticNet\n",
    "from sklearn.model_selection import train_test_split\n",
    "from sklearn.linear_model import ElasticNet\n",
    "from sklearn.metrics import r2_score\n",
    "\n",
    "scaledX, X_test, y_train, y_test = train_test_split(X, y, test_size=0.2, random_state=8)\n",
    "model =ElasticNet()\n",
    "model.fit(scaledX, y_train)\n",
    "y_pred = model.predict(X_test)\n",
    "\n",
    "print(\"R2 Score\",r2_score(y_test, y_pred))\n"
   ]
  },
  {
   "cell_type": "code",
   "execution_count": null,
   "metadata": {},
   "outputs": [],
   "source": [
    "R2 Score 0.2697994956361749-linear\n",
    "R2 Score 0.2875590286619658-ridge\n",
    "R2 Score 0.035606344510107246-lasso\n",
    "R2 Score 0.0434901390172836-EN"
   ]
  }
 ],
 "metadata": {
  "kernelspec": {
   "display_name": "Python 3",
   "language": "python",
   "name": "python3"
  },
  "language_info": {
   "codemirror_mode": {
    "name": "ipython",
    "version": 3
   },
   "file_extension": ".py",
   "mimetype": "text/x-python",
   "name": "python",
   "nbconvert_exporter": "python",
   "pygments_lexer": "ipython3",
   "version": "3.7.6"
  }
 },
 "nbformat": 4,
 "nbformat_minor": 4
}
