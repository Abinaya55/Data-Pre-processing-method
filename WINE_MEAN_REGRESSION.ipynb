{
 "cells": [
  {
   "cell_type": "code",
   "execution_count": null,
   "metadata": {},
   "outputs": [],
   "source": [
    "---------------------------Pre Processing the data--------MEAN METHOD------------------LINEAR----------------------"
   ]
  },
  {
   "cell_type": "code",
   "execution_count": 30,
   "metadata": {},
   "outputs": [
    {
     "name": "stdout",
     "output_type": "stream",
     "text": [
      "fixed acidity           0\n",
      "volatile acidity        0\n",
      "citric acid             0\n",
      "residual sugar          0\n",
      "chlorides               0\n",
      "free sulfur dioxide     0\n",
      "total sulfur dioxide    0\n",
      "density                 0\n",
      "pH                      0\n",
      "sulphates               0\n",
      "alcohol                 0\n",
      "quality                 0\n",
      "dtype: int64\n",
      "R2 Score 0.28621187402244064\n"
     ]
    }
   ],
   "source": [
    "import pandas as pd\n",
    "import numpy as np\n",
    "\n",
    "from sklearn.model_selection import train_test_split\n",
    "from sklearn.metrics import r2_score\n",
    "from sklearn import linear_model\n",
    "\n",
    "df = pd.read_csv(\"Wine1.csv\")\n",
    "#print(df)\n",
    "#print(df.isnull().sum())\n",
    "df.replace(' ', np.NaN)\n",
    "#df[\"X\"].fillna(0, inplace = True) \n",
    "\n",
    "df.fillna(0, inplace = True) \n",
    "print(df.isnull().sum())\n",
    "X = df[['fixed acidity','volatile acidity','citric acid','residual sugar','chlorides','free sulfur dioxide','total sulfur dioxide','density','pH','sulphates','alcohol']][:].values.reshape(4898, 11)\n",
    "y = df[['quality']][:].values.reshape(4898, 1)\n",
    "#print(X)\n",
    "#print(y)\n",
    "\n",
    "from sklearn.impute import SimpleImputer\n",
    "\n",
    "# Imputation\n",
    "my_imputer = SimpleImputer()\n",
    "imputed_df = pd.DataFrame(my_imputer.fit_transform(df))\n",
    "\n",
    "#restoring the columnn names\n",
    "imputed_df.columns = df.columns\n",
    "#print(imputed_df.isnull().sum())\n",
    "\n",
    "\n",
    "model = linear_model.LinearRegression()\n",
    "X_train, X_test, y_train, y_test = train_test_split(X, y, test_size=0.2, random_state=8)\n",
    "model.fit(X_train, y_train)\n",
    "y_pred = model.predict(X_test)\n",
    "\n",
    "print(\"R2 Score\",r2_score(y_test, y_pred))\n"
   ]
  },
  {
   "cell_type": "code",
   "execution_count": null,
   "metadata": {},
   "outputs": [],
   "source": [
    "----------------------------RIDGE-MEAN---------------------------------------------"
   ]
  },
  {
   "cell_type": "code",
   "execution_count": 1,
   "metadata": {},
   "outputs": [],
   "source": [
    "import pandas as pd\n",
    "import numpy as np\n",
    "\n",
    "from sklearn.model_selection import train_test_split\n",
    "from sklearn.metrics import r2_score\n",
    "\n",
    "from sklearn.linear_model import Ridge\n",
    "\n",
    "df = pd.read_csv(\"Wine1.csv\")\n",
    "#print(df)\n",
    "#print(df.isnull().sum())\n",
    "df.replace(' ', np.NaN)\n",
    "#df[\"X\"].fillna(0, inplace = True) \n",
    "\n",
    "df.fillna(0, inplace = True) \n",
    "#print(df.isnull().sum())\n",
    "X = df[['fixed acidity','volatile acidity','citric acid','residual sugar','chlorides','free sulfur dioxide','total sulfur dioxide','density','pH','sulphates','alcohol']][:].values.reshape(4898, 11)\n",
    "y = df[['quality']][:].values.reshape(4898, 1)\n",
    "#print(X)\n",
    "#print(y)\n",
    "\n",
    "from sklearn.impute import SimpleImputer\n",
    "\n",
    "# Imputation\n",
    "my_imputer = SimpleImputer()\n",
    "imputed_df = pd.DataFrame(my_imputer.fit_transform(df))\n",
    "\n",
    "#restoring the columnn names\n",
    "imputed_df.columns = df.columns\n",
    "#print(imputed_df.isnull().sum())\n",
    "\n",
    "\n",
    "\n",
    "\n",
    "X_train, X_test, y_train, y_test = train_test_split(X, y, test_size=0.2, random_state=8)\n",
    "\n",
    "model = Ridge()\n",
    "model.fit(X_train, y_train)\n",
    "y_pred = model.predict(X_test)\n",
    "\n",
    "print(\"R2 Score\",r2_score(y_test, y_pred))\n"
   ]
  },
  {
   "cell_type": "code",
   "execution_count": null,
   "metadata": {},
   "outputs": [],
   "source": [
    "-----------------------------LASSO-MEAN------------------------------------------------------"
   ]
  },
  {
   "cell_type": "code",
   "execution_count": 26,
   "metadata": {},
   "outputs": [
    {
     "name": "stdout",
     "output_type": "stream",
     "text": [
      "R2 Score 0.035441028609533576\n"
     ]
    }
   ],
   "source": [
    "import pandas as pd\n",
    "import numpy as np\n",
    "\n",
    "from sklearn.model_selection import train_test_split\n",
    "from sklearn.metrics import r2_score\n",
    "\n",
    "from sklearn.linear_model import Lasso\n",
    "\n",
    "df = pd.read_csv(\"Wine1.csv\")\n",
    "#print(df)\n",
    "#print(df.isnull().sum())\n",
    "df.replace(' ', np.NaN)\n",
    "#df[\"X\"].fillna(0, inplace = True) \n",
    "\n",
    "df.fillna(0, inplace = True) \n",
    "#print(df.isnull().sum())\n",
    "X = df[['fixed acidity','volatile acidity','citric acid','residual sugar','chlorides','free sulfur dioxide','total sulfur dioxide','density','pH','sulphates','alcohol']][:].values.reshape(4898, 11)\n",
    "y = df[['quality']][:].values.reshape(4898, 1)\n",
    "#print(X)\n",
    "#print(y)\n",
    "\n",
    "from sklearn.impute import SimpleImputer\n",
    "\n",
    "# Imputation\n",
    "my_imputer = SimpleImputer()\n",
    "imputed_df = pd.DataFrame(my_imputer.fit_transform(df))\n",
    "\n",
    "#restoring the columnn names\n",
    "imputed_df.columns = df.columns\n",
    "#print(imputed_df.isnull().sum())\n",
    "\n",
    "\n",
    "\n",
    "\n",
    "X_train, X_test, y_train, y_test = train_test_split(X, y, test_size=0.2, random_state=8)\n",
    "\n",
    "model = Lasso()\n",
    "model.fit(X_train, y_train)\n",
    "y_pred = model.predict(X_test)\n",
    "\n",
    "print(\"R2 Score\",r2_score(y_test, y_pred))"
   ]
  },
  {
   "cell_type": "code",
   "execution_count": null,
   "metadata": {},
   "outputs": [],
   "source": [
    "----------------------ELASTICNET------------------------------------------"
   ]
  },
  {
   "cell_type": "code",
   "execution_count": 29,
   "metadata": {},
   "outputs": [
    {
     "name": "stdout",
     "output_type": "stream",
     "text": [
      "R2 Score 0.043037739969189914\n"
     ]
    }
   ],
   "source": [
    "import pandas as pd\n",
    "import numpy as np\n",
    "\n",
    "from sklearn.model_selection import train_test_split\n",
    "from sklearn.metrics import r2_score\n",
    "\n",
    "from sklearn.linear_model import ElasticNet\n",
    "\n",
    "df = pd.read_csv(\"Wine1.csv\")\n",
    "#print(df)\n",
    "#print(df.isnull().sum())\n",
    "df.replace(' ', np.NaN)\n",
    "#df[\"X\"].fillna(0, inplace = True) \n",
    "\n",
    "df.fillna(0, inplace = True) \n",
    "#print(df.isnull().sum())\n",
    "X = df[['fixed acidity','volatile acidity','citric acid','residual sugar','chlorides','free sulfur dioxide','total sulfur dioxide','density','pH','sulphates','alcohol']][:].values.reshape(4898, 11)\n",
    "y = df[['quality']][:].values.reshape(4898, 1)\n",
    "#print(X)\n",
    "#print(y)\n",
    "\n",
    "from sklearn.impute import SimpleImputer\n",
    "\n",
    "# Imputation\n",
    "my_imputer = SimpleImputer()\n",
    "imputed_df = pd.DataFrame(my_imputer.fit_transform(df))\n",
    "\n",
    "#restoring the columnn names\n",
    "imputed_df.columns = df.columns\n",
    "#print(imputed_df.isnull().sum())\n",
    "\n",
    "\n",
    "\n",
    "\n",
    "X_train, X_test, y_train, y_test = train_test_split(X, y, test_size=0.2, random_state=8)\n",
    "\n",
    "model = ElasticNet()\n",
    "model.fit(X_train, y_train)\n",
    "y_pred = model.predict(X_test)\n",
    "\n",
    "print(\"R2 Score\",r2_score(y_test, y_pred))"
   ]
  },
  {
   "cell_type": "code",
   "execution_count": null,
   "metadata": {},
   "outputs": [],
   "source": [
    "R2 Score 0.043037739969189914-EN\n",
    "R2 Score 0.035441028609533576-lasso\n",
    "R2 Score 0.2863423482336426-ridge\n",
    "R2 Score 0.28621187402244064-linear"
   ]
  }
 ],
 "metadata": {
  "kernelspec": {
   "display_name": "Python 3",
   "language": "python",
   "name": "python3"
  },
  "language_info": {
   "codemirror_mode": {
    "name": "ipython",
    "version": 3
   },
   "file_extension": ".py",
   "mimetype": "text/x-python",
   "name": "python",
   "nbconvert_exporter": "python",
   "pygments_lexer": "ipython3",
   "version": "3.7.6"
  }
 },
 "nbformat": 4,
 "nbformat_minor": 4
}
