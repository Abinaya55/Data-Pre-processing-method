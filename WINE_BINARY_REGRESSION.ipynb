{
 "cells": [
  {
   "cell_type": "code",
   "execution_count": null,
   "metadata": {},
   "outputs": [],
   "source": [
    "-----------------linear-------------"
   ]
  },
  {
   "cell_type": "code",
   "execution_count": 5,
   "metadata": {},
   "outputs": [
    {
     "name": "stdout",
     "output_type": "stream",
     "text": [
      "R2 Score 1.0\n"
     ]
    }
   ],
   "source": [
    "import pandas as pd\n",
    "import numpy as np\n",
    "from sklearn import linear_model\n",
    "from sklearn.model_selection import train_test_split\n",
    "from sklearn.metrics import r2_score\n",
    "df = pd.read_csv(\"winequality.csv\")\n",
    "#print(df)\n",
    "# Splitting the data\n",
    "X = df[['fixed acidity','volatile acidity','citric acid','residual sugar','chlorides','free sulfur dioxide','total sulfur dioxide','density','pH','sulphates','alcohol']][:].values.reshape(4898, 11)\n",
    "y = df[['quality']][:].values.reshape(4898, 1)\n",
    "# Binarizing\n",
    "from sklearn.preprocessing import Binarizer \n",
    "binarizer = Binarizer(threshold=0.0).fit(X) \n",
    "binaryX = pd.DataFrame(binarizer.transform(X))\n",
    "#here we use MultiIndex to avoid length replacing error\n",
    "binaryX=pd.MultiIndex.from_frame(df)\n",
    "#print(binaryX)\n",
    "#print(type(binaryX))\n",
    "#converting MultiIndex into Dataframe \n",
    "pf2=binaryX.to_frame(index = True)\n",
    "#print(pf2)\n",
    "\n",
    "pf2, X_test, y_train, y_test = train_test_split(pf2, y, test_size=0.2, random_state=8)\n",
    "model =linear_model.LinearRegression()\n",
    "model.fit(pf2, y_train)\n",
    "y_pred = model.predict(X_test)\n",
    "\n",
    "print(\"R2 Score\",r2_score(y_test, y_pred))\n",
    "\n"
   ]
  },
  {
   "cell_type": "code",
   "execution_count": 7,
   "metadata": {},
   "outputs": [
    {
     "name": "stdout",
     "output_type": "stream",
     "text": [
      "R2 Score 0.9999998602194059\n"
     ]
    }
   ],
   "source": [
    "import pandas as pd\n",
    "import numpy as np\n",
    "from sklearn.linear_model import Ridge\n",
    "\n",
    "from sklearn.model_selection import train_test_split\n",
    "from sklearn.metrics import r2_score\n",
    "df = pd.read_csv(\"winequality.csv\")\n",
    "#print(df)\n",
    "# Splitting the data\n",
    "X = df[['fixed acidity','volatile acidity','citric acid','residual sugar','chlorides','free sulfur dioxide','total sulfur dioxide','density','pH','sulphates','alcohol']][:].values.reshape(4898, 11)\n",
    "y = df[['quality']][:].values.reshape(4898, 1)\n",
    "# Binarizing\n",
    "from sklearn.preprocessing import Binarizer \n",
    "binarizer = Binarizer(threshold=0.0).fit(X) \n",
    "binaryX = pd.DataFrame(binarizer.transform(X))\n",
    "#here we use MultiIndex to avoid length replacing error\n",
    "binaryX=pd.MultiIndex.from_frame(df)\n",
    "#print(binaryX)\n",
    "#print(type(binaryX))\n",
    "#converting MultiIndex into Dataframe \n",
    "pf2=binaryX.to_frame(index = True)\n",
    "#print(pf2)\n",
    "\n",
    "pf2, X_test, y_train, y_test = train_test_split(pf2, y, test_size=0.2, random_state=8)\n",
    "model =Ridge()\n",
    "model.fit(pf2, y_train)\n",
    "y_pred = model.predict(X_test)\n",
    "\n",
    "print(\"R2 Score\",r2_score(y_test, y_pred))\n"
   ]
  },
  {
   "cell_type": "code",
   "execution_count": 8,
   "metadata": {},
   "outputs": [
    {
     "name": "stdout",
     "output_type": "stream",
     "text": [
      "R2 Score 0.03560634451010736\n"
     ]
    }
   ],
   "source": [
    "import pandas as pd\n",
    "import numpy as np\n",
    "from sklearn.linear_model import Lasso\n",
    "\n",
    "from sklearn.model_selection import train_test_split\n",
    "from sklearn.metrics import r2_score\n",
    "df = pd.read_csv(\"winequality.csv\")\n",
    "#print(df)\n",
    "# Splitting the data\n",
    "X = df[['fixed acidity','volatile acidity','citric acid','residual sugar','chlorides','free sulfur dioxide','total sulfur dioxide','density','pH','sulphates','alcohol']][:].values.reshape(4898, 11)\n",
    "y = df[['quality']][:].values.reshape(4898, 1)\n",
    "# Binarizing\n",
    "from sklearn.preprocessing import Binarizer \n",
    "binarizer = Binarizer(threshold=0.0).fit(X) \n",
    "binaryX = pd.DataFrame(binarizer.transform(X))\n",
    "#here we use MultiIndex to avoid length replacing error\n",
    "binaryX=pd.MultiIndex.from_frame(df)\n",
    "#print(binaryX)\n",
    "#print(type(binaryX))\n",
    "#converting MultiIndex into Dataframe \n",
    "pf2=binaryX.to_frame(index = True)\n",
    "#print(pf2)\n",
    "\n",
    "pf2, X_test, y_train, y_test = train_test_split(pf2, y, test_size=0.2, random_state=8)\n",
    "model =Lasso()\n",
    "model.fit(pf2, y_train)\n",
    "y_pred = model.predict(X_test)\n",
    "\n",
    "print(\"R2 Score\",r2_score(y_test, y_pred))\n"
   ]
  },
  {
   "cell_type": "code",
   "execution_count": 9,
   "metadata": {},
   "outputs": [
    {
     "name": "stdout",
     "output_type": "stream",
     "text": [
      "R2 Score 0.3906475759176875\n"
     ]
    }
   ],
   "source": [
    "import pandas as pd\n",
    "import numpy as np\n",
    "from sklearn.linear_model import ElasticNet\n",
    "\n",
    "from sklearn.model_selection import train_test_split\n",
    "from sklearn.metrics import r2_score\n",
    "df = pd.read_csv(\"winequality.csv\")\n",
    "#print(df)\n",
    "# Splitting the data\n",
    "X = df[['fixed acidity','volatile acidity','citric acid','residual sugar','chlorides','free sulfur dioxide','total sulfur dioxide','density','pH','sulphates','alcohol']][:].values.reshape(4898, 11)\n",
    "y = df[['quality']][:].values.reshape(4898, 1)\n",
    "# Binarizing\n",
    "from sklearn.preprocessing import Binarizer \n",
    "binarizer = Binarizer(threshold=0.0).fit(X) \n",
    "binaryX = pd.DataFrame(binarizer.transform(X))\n",
    "#here we use MultiIndex to avoid length replacing error\n",
    "binaryX=pd.MultiIndex.from_frame(df)\n",
    "#print(binaryX)\n",
    "#print(type(binaryX))\n",
    "#converting MultiIndex into Dataframe \n",
    "pf2=binaryX.to_frame(index = True)\n",
    "#print(pf2)\n",
    "\n",
    "pf2, X_test, y_train, y_test = train_test_split(pf2, y, test_size=0.2, random_state=8)\n",
    "model =ElasticNet()\n",
    "model.fit(pf2, y_train)\n",
    "y_pred = model.predict(X_test)\n",
    "\n",
    "print(\"R2 Score\",r2_score(y_test, y_pred))\n"
   ]
  },
  {
   "cell_type": "code",
   "execution_count": null,
   "metadata": {},
   "outputs": [],
   "source": [
    "R2 Score 0.3906475759176875-EN\n",
    "R2 Score 0.03560634451010736-lasso\n",
    "R2 Score 0.9999998602194059-ridge\n",
    "R2 Score 1.0-Linear"
   ]
  }
 ],
 "metadata": {
  "kernelspec": {
   "display_name": "Python 3",
   "language": "python",
   "name": "python3"
  },
  "language_info": {
   "codemirror_mode": {
    "name": "ipython",
    "version": 3
   },
   "file_extension": ".py",
   "mimetype": "text/x-python",
   "name": "python",
   "nbconvert_exporter": "python",
   "pygments_lexer": "ipython3",
   "version": "3.7.6"
  }
 },
 "nbformat": 4,
 "nbformat_minor": 4
}
